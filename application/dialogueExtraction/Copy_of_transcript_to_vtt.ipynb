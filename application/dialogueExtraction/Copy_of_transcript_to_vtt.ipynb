{
 "cells": [
  {
   "cell_type": "markdown",
   "metadata": {},
   "source": [
    "# Character names + .srt ==> .vtt"
   ]
  },
  {
   "cell_type": "markdown",
   "metadata": {
    "colab_type": "text",
    "id": "Mai8ztoe21Do"
   },
   "source": [
    "## Dependencies\n",
    "\n",
    "**CONTINUE NOTE**: instead of printing to console, start modifying the caption object and then return it to be written to a file later"
   ]
  },
  {
   "cell_type": "code",
   "execution_count": 1,
   "metadata": {
    "colab": {
     "base_uri": "https://localhost:8080/",
     "height": 34
    },
    "colab_type": "code",
    "collapsed": true,
    "id": "SxNGh_qC25uh",
    "outputId": "4b6c8b20-d463-4a21-c187-84095591d069"
   },
   "outputs": [
    {
     "name": "stdout",
     "output_type": "stream",
     "text": [
      "Requirement already satisfied: beautifulsoup4 in /anaconda3/lib/python3.6/site-packages (4.6.0)\n",
      "\u001b[33mYou are using pip version 10.0.1, however version 19.0.3 is available.\n",
      "You should consider upgrading via the 'pip install --upgrade pip' command.\u001b[0m\n"
     ]
    }
   ],
   "source": [
    "# !pip install beautifulsoup4"
   ]
  },
  {
   "cell_type": "code",
   "execution_count": 14,
   "metadata": {
    "colab": {
     "base_uri": "https://localhost:8080/",
     "height": 34
    },
    "colab_type": "code",
    "collapsed": true,
    "id": "P_udyg1qj0kL",
    "outputId": "c95d7276-c8c8-4d68-a3a6-5c6b96d961d2"
   },
   "outputs": [
    {
     "name": "stdout",
     "output_type": "stream",
     "text": [
      "Collecting pysubs2\n",
      "  Using cached https://files.pythonhosted.org/packages/ec/0b/c4274fd06a9b10261c1790d52d415f60fb107caa5c6539d09ec089ef9c0d/pysubs2-0.2.3-py2.py3-none-any.whl\n",
      "Installing collected packages: pysubs2\n",
      "Successfully installed pysubs2-0.2.3\n",
      "\u001b[33mYou are using pip version 10.0.1, however version 19.0.3 is available.\n",
      "You should consider upgrading via the 'pip install --upgrade pip' command.\u001b[0m\n"
     ]
    }
   ],
   "source": [
    "# !pip install pysubs2"
   ]
  },
  {
   "cell_type": "code",
   "execution_count": 192,
   "metadata": {
    "collapsed": true
   },
   "outputs": [
    {
     "name": "stdout",
     "output_type": "stream",
     "text": [
      "Collecting webvtt-py\n",
      "  Using cached https://files.pythonhosted.org/packages/af/95/050a74d5d1ef1b150cbdadaa4fedf9fa8d1ee6aa94222de5550a734ac3ef/webvtt_py-0.4.2-py3-none-any.whl\n",
      "Collecting docopt (from webvtt-py)\n",
      "Installing collected packages: docopt, webvtt-py\n",
      "Successfully installed docopt-0.6.2 webvtt-py-0.4.2\n",
      "\u001b[33mYou are using pip version 10.0.1, however version 19.0.3 is available.\n",
      "You should consider upgrading via the 'pip install --upgrade pip' command.\u001b[0m\n"
     ]
    }
   ],
   "source": [
    "# !pip install webvtt-py"
   ]
  },
  {
   "cell_type": "markdown",
   "metadata": {
    "colab_type": "text",
    "id": "FvyJ2kLq15P9"
   },
   "source": [
    "## Download webpage"
   ]
  },
  {
   "cell_type": "code",
   "execution_count": 123,
   "metadata": {},
   "outputs": [],
   "source": [
    "import requests\n",
    "import re\n",
    "import string\n",
    "import webvtt\n",
    "import bs4\n",
    "from bs4 import BeautifulSoup\n",
    "from difflib import SequenceMatcher"
   ]
  },
  {
   "cell_type": "code",
   "execution_count": 124,
   "metadata": {
    "colab": {
     "base_uri": "https://localhost:8080/",
     "height": 54
    },
    "colab_type": "code",
    "id": "gAvTFFADy4bX",
    "outputId": "ee4c2a2c-630b-4292-a797-b730d19ceb4d"
   },
   "outputs": [],
   "source": [
    "# page = requests.get(\"http://www.livesinabox.com/friends/season2/212toasb.htm\")\n",
    "page = requests.get(\"http://www.livesinabox.com/friends/season2/215rryk.htm\") # try the following\n",
    "# page.content"
   ]
  },
  {
   "cell_type": "markdown",
   "metadata": {
    "colab_type": "text",
    "id": "fDpDSKdY2EGr"
   },
   "source": [
    "## Traverse webpage to extract dialogues with beautifulsoup\n",
    "### Extract character names from the transcript, using ':'"
   ]
  },
  {
   "cell_type": "code",
   "execution_count": 125,
   "metadata": {
    "colab": {},
    "colab_type": "code",
    "id": "LThJOm691O1c"
   },
   "outputs": [],
   "source": [
    "soup = BeautifulSoup(page.content, 'html5lib')"
   ]
  },
  {
   "cell_type": "code",
   "execution_count": 126,
   "metadata": {},
   "outputs": [],
   "source": [
    "def printItrNicely(thing):\n",
    "    for t in thing:\n",
    "#         print(type(t) is bs4.element.Tag)\n",
    "#         if (type(t) is not bs4.element.Tag):\n",
    "#             print(t)\n",
    "        print(t)\n",
    "        print(\"-------------------------------------\")"
   ]
  },
  {
   "cell_type": "code",
   "execution_count": 127,
   "metadata": {},
   "outputs": [],
   "source": [
    "def cleanUpEmpty(oldLst):\n",
    "    newLst = []\n",
    "    for i in oldLst:\n",
    "#         print(i.strip())\n",
    "        if i.strip() is not \"\":\n",
    "            newLst.append(i)\n",
    "    return newLst"
   ]
  },
  {
   "cell_type": "code",
   "execution_count": 128,
   "metadata": {},
   "outputs": [],
   "source": [
    "def getDialogueDichotomy(lst):\n",
    "\n",
    "    dd = []\n",
    "#     tmpTuple = ('','')\n",
    "    for i, t in enumerate(lst):\n",
    "#         print(i)\n",
    "        tmp = t.split(':')\n",
    "#         print(tmp)\n",
    "#         if i>=100: break\n",
    "        if (len(tmp) == 2):\n",
    "            tmp[0] = tmp[0].strip().upper()\n",
    "            # remove punctuations and white spaces\n",
    "            tmp[1] = tmp[1].strip().lower().translate(str.maketrans('', '', string.punctuation))\n",
    "            tmp[1] = \" \".join(tmp[1].split())\n",
    "            dd.append((tmp[0], tmp[1]))\n",
    "#             print(tmp)\n",
    "#                 break # TESTING\n",
    "        elif (len(tmp) == 1):\n",
    "            continue\n",
    "        else: # WEIRD\n",
    "            print(\"WEIRD\", len(tmp))\n",
    "            print(tmp)\n",
    "            continue # TESTING\n",
    "        \n",
    "    return dd"
   ]
  },
  {
   "cell_type": "code",
   "execution_count": 129,
   "metadata": {},
   "outputs": [],
   "source": [
    "def remove_html_tags(data):\n",
    "    p = re.compile(r'<.*?>')\n",
    "    return p.sub('', data)"
   ]
  },
  {
   "cell_type": "code",
   "execution_count": 130,
   "metadata": {},
   "outputs": [],
   "source": [
    "def remove_stage_directions(data):\n",
    "    \"\"\"remove things between square brackets [...]\n",
    "    \"\"\"\n",
    "    p = re.compile(r'\\[.*?\\]')\n",
    "    return p.sub('', data)"
   ]
  },
  {
   "cell_type": "code",
   "execution_count": 131,
   "metadata": {},
   "outputs": [],
   "source": [
    "def remove_parens(data):\n",
    "    \"\"\"remove things between parens (...)\n",
    "    \"\"\"\n",
    "    p = re.compile(r'\\(.*\\)')\n",
    "    return p.sub('', data)"
   ]
  },
  {
   "cell_type": "code",
   "execution_count": 132,
   "metadata": {},
   "outputs": [],
   "source": [
    "# NOT now\n",
    "# \"\".join(soup.findAll(text=True)) # clever from (https://stackoverflow.com/a/3351680/7303112) to remove html tags and just get text\n",
    "# html = list(soup.children)\n",
    "# var = str(html[0].get_text(separator=' ')).replace(\"\\n\", \" \")"
   ]
  },
  {
   "cell_type": "code",
   "execution_count": 133,
   "metadata": {
    "colab": {
     "base_uri": "https://localhost:8080/",
     "height": 255
    },
    "colab_type": "code",
    "id": "1Wwwxo8R2xbP",
    "outputId": "937a2f83-b417-4006-c8e9-941115706470"
   },
   "outputs": [],
   "source": [
    "# html = list(soup.children)\n",
    "# printItrNicely(html)\n",
    "# txt = html[0].get_text(\"+-+\")\n",
    "# txt = txt.replace(\"\\n\", \"\")\n",
    "# txt = txt.split(\"+-+\")\n",
    "# print(\"\".join(txt))\n",
    "# print(txt[:100])\n",
    "# getDialogueDichotomy(txt)"
   ]
  },
  {
   "cell_type": "code",
   "execution_count": 134,
   "metadata": {
    "colab": {},
    "colab_type": "code",
    "id": "egmE35_f-fGL",
    "scrolled": true
   },
   "outputs": [],
   "source": [
    "# find all unique words succeeded by ':'\n",
    "# take from 'unique_name: sentence' in transcript and compare if 80% or more from the subtitle file matches to the transcript\n",
    "  # random ass \\n in the dialogues so I'll have to capture until '.'\n",
    "html = list(soup.children)\n",
    "whole = html[0].prettify()\n",
    "# print(whole)\n",
    "match = re.finditer(r'(?:<br/>)([\\s\\S]*?)(?=<br/>)', whole)\n",
    "all_dialogues = []\n",
    "for m in match:\n",
    "    tmp = m.group(0).replace(\"\\n\", \" \")\n",
    "    tmp = remove_html_tags(tmp).strip()\n",
    "    tmp = remove_parens(tmp)\n",
    "    tmp = remove_stage_directions(tmp)\n",
    "#     tmp = re.sub(\"<.*?>\", \"\", tmp).strip()\n",
    "    if (tmp == \"\"):\n",
    "        continue\n",
    "    all_dialogues.append(tmp)\n",
    "\n"
   ]
  },
  {
   "cell_type": "code",
   "execution_count": 135,
   "metadata": {},
   "outputs": [],
   "source": [
    "# printItrNicely(all_dialogues)"
   ]
  },
  {
   "cell_type": "code",
   "execution_count": 136,
   "metadata": {},
   "outputs": [
    {
     "name": "stdout",
     "output_type": "stream",
     "text": [
      "247\n"
     ]
    }
   ],
   "source": [
    "pairs = getDialogueDichotomy(all_dialogues)\n",
    "\n",
    "print(len(pairs))\n",
    "# printItrNicely(pairs)"
   ]
  },
  {
   "cell_type": "markdown",
   "metadata": {},
   "source": [
    "## Now get subtitles from Netflix's extracted `.vtt` file"
   ]
  },
  {
   "cell_type": "code",
   "execution_count": 137,
   "metadata": {},
   "outputs": [],
   "source": [
    "def standardizeVttCaptionsForComparison(captionsLst):\n",
    "    capToDel = []\n",
    "    for i, cap in enumerate(captionsLst):\n",
    "        tmp = cap.text.lower()\n",
    "        tmp = tmp.replace(\"\\n\", \" \")\n",
    "        tmp = remove_stage_directions(tmp)\n",
    "        tmp = remove_parens(tmp)\n",
    "        tmp = tmp.translate(str.maketrans('', '', string.punctuation))\n",
    "        if tmp is \"\": \n",
    "            capToDel.append(i)\n",
    "            continue\n",
    "        tmp = \" \".join(tmp.split())\n",
    "        cap.text = tmp\n",
    "    for i, idx in enumerate(capToDel):\n",
    "        del captionsLst[idx-i]\n",
    "    return captionsLst"
   ]
  },
  {
   "cell_type": "code",
   "execution_count": 138,
   "metadata": {
    "colab": {},
    "colab_type": "code",
    "id": "BPu7qSeb6tjI"
   },
   "outputs": [],
   "source": [
    "#matches strings with percent similarity, obvious problems with periods and exclamation marks etc\n",
    "def similar(a, b):\n",
    "    return SequenceMatcher(None, a, b).ratio()"
   ]
  },
  {
   "cell_type": "code",
   "execution_count": 139,
   "metadata": {},
   "outputs": [],
   "source": [
    "COM_THRES=0.67\n",
    "SIM_THRES=0.95 # this means both are the same and increment both counters\n",
    "MIN_SIM_THRES=0.6\n",
    "def isMatch(caption, transcript, thres=0.75, verbose=False):\n",
    "    \"\"\" checks for existence of each word of caption in transcript\n",
    "    `caption` : is string\n",
    "    `transcript` : is string\n",
    "    \"\"\"\n",
    "    if verbose:\n",
    "        print(\"COMP\", caption, \"|\", transcript)\n",
    "    lsttra = transcript.split()\n",
    "    lstcap = caption.split()\n",
    "    if len(lstcap) is 0: return (0.0, 0.0)\n",
    "\n",
    "    comp = [s in lsttra for s in lstcap]\n",
    "    score = comp.count(True)/len(comp)\n",
    "    simScore = similar(caption, transcript)\n",
    "    if verbose:\n",
    "        print(\"SCORE:\", score)\n",
    "        print(\"SIM_S:\", simScore)\n",
    "    return score, simScore\n",
    "#     if score >= thres or simScore >= thres:\n",
    "#         return True\n",
    "#     return False\n",
    "\n",
    "def addCharNames(transcriptPairs, stdVttCaptions, verbose=False, detailedVerbose=False):\n",
    "    \"\"\"add character names to vtt captions (will return modified captions list)\n",
    "    `transcriptPairs` : list of tuples of size two \n",
    "        [0] => characterName (ALL CAPS), \n",
    "        [1] => dialogue all lower with subtitles and white spaces removed\n",
    "    `stdVttCaptions` : list of Caption objects \n",
    "        (standardized by removing puntuations, netflix tags, & lowercasing)\n",
    "        use `.text` to get text &\n",
    "        append charactername like so `stdVttCaptions.text = '<v CHARACTER>'+stdVttCaptions.text`\n",
    "    \"\"\"\n",
    "    print(\"initial count\", len(stdVttCaptions), len(transcriptPairs))\n",
    "    min_score = 0.75\n",
    "    cap_i = 0 # counter for captions\n",
    "    tra_j = 0 # counter for transcripts pairs\n",
    "    maxNotMatchedBeforeMovingOn = 10\n",
    "    maxNotFound = 20 # 20 consistent dialogues couldn't be matched with transcripts \n",
    "    foundFirst = False\n",
    "    notFoundIndices = []\n",
    "    def found():\n",
    "        nonlocal cap_i\n",
    "        nonlocal didntFindCount\n",
    "        nonlocal didntMatchCount\n",
    "        nonlocal foundFirst\n",
    "#         print(\"++Matched!++\", transcriptPairs[tra_j][0], currCap)\n",
    "        # modify actual captions\n",
    "        stdVttCaptions[cap_i].text = \"<v \"+transcriptPairs[tra_j][0]+\">\"+stdVttCaptions[cap_i].text\n",
    "        if verbose: print(\"Matched : \", stdVttCaptions[cap_i].raw_text)\n",
    "        if not foundFirst:\n",
    "            foundFirst = True\n",
    "            nonlocal maxNotMatchedBeforeMovingOn\n",
    "            maxNotMatchedBeforeMovingOn = 3 # reduce to minimize errors throughout \n",
    "        cap_i += 1\n",
    "        didntFindCount = 0\n",
    "        didntMatchCount = 0\n",
    "    def foundPerf():\n",
    "        nonlocal tra_j\n",
    "#         nonlocal cap_i\n",
    "        if verbose: print(\"**PerfMatched!**\")\n",
    "        found()\n",
    "        tra_j += 1\n",
    "    def notFound():\n",
    "        nonlocal cap_i\n",
    "        nonlocal tra_j\n",
    "        nonlocal didntMatchCount\n",
    "        nonlocal didntFindCount\n",
    "        tra_j += 1\n",
    "        didntMatchCount += 1\n",
    "        if didntMatchCount > maxNotMatchedBeforeMovingOn or tra_j >= len(transcriptPairs):\n",
    "            if verbose: print(\"--Match not found:\", currCap)\n",
    "            didntFindCount += 1\n",
    "            notFoundIndices.append(cap_i)\n",
    "            cap_i += 1\n",
    "            tra_j -= didntMatchCount\n",
    "            didntMatchCount = 0\n",
    "        if didntFindCount > maxNotFound:\n",
    "            print(\"Unknown error occured. Consistently couldn't find equivalent transcripts to\", maxNotFound, \" captions.\")\n",
    "            return\n",
    "    \n",
    "    didntMatchCount = 0\n",
    "    didntFindCount = 0\n",
    "    while(cap_i < len(stdVttCaptions) and tra_j < len(transcriptPairs)):\n",
    "        if verbose: print(cap_i, tra_j)\n",
    "        currCap = stdVttCaptions[cap_i].text\n",
    "        currTra = transcriptPairs[tra_j][1]\n",
    "        # FRIENDS ONLY to skip title song! I'll be there for you...\n",
    "        if \"♪\" in currCap:\n",
    "            # FIXME: add to notFoundIndices?\n",
    "            cap_i += 1\n",
    "            continue\n",
    "        comScore, simScore = isMatch(currCap, currTra, verbose=detailedVerbose)\n",
    "        # PERF match\n",
    "        if (simScore >= SIM_THRES):\n",
    "            foundPerf()\n",
    "        # Good match\n",
    "        elif (comScore >= COM_THRES or simScore >= MIN_SIM_THRES):\n",
    "            found()\n",
    "        # Didn't match\n",
    "        else:\n",
    "            notFound()\n",
    "    print(\"final itr\", cap_i, tra_j)\n",
    "    \n",
    "    return stdVttCaptions, notFoundIndices\n",
    "        \n"
   ]
  },
  {
   "cell_type": "code",
   "execution_count": 140,
   "metadata": {},
   "outputs": [
    {
     "name": "stdout",
     "output_type": "stream",
     "text": [
      "True\n",
      "452\n",
      "432\n"
     ]
    }
   ],
   "source": [
    "inputFile = 'friends-s02e15.vtt'\n",
    "vtt = webvtt.read('friends-s02e15.vtt')\n",
    "captions_lst = vtt.captions\n",
    "print(captions_lst is vtt.captions)\n",
    "print(len(captions_lst))\n",
    "captions_lst = standardizeVttCaptionsForComparison(captions_lst)\n",
    "print(len(captions_lst))"
   ]
  },
  {
   "cell_type": "code",
   "execution_count": 141,
   "metadata": {},
   "outputs": [
    {
     "name": "stdout",
     "output_type": "stream",
     "text": [
      "initial count 432 247\n",
      "final itr 432 246\n"
     ]
    }
   ],
   "source": [
    "newCaptions, indicesNotFound = addCharNames(pairs, captions_lst, verbose=False, detailedVerbose=False)"
   ]
  },
  {
   "cell_type": "markdown",
   "metadata": {},
   "source": [
    "> Learned that vtt.captions list is passed as reference! So just need to do `vtt.save(\"newfile.vtt\")` to save"
   ]
  },
  {
   "cell_type": "code",
   "execution_count": 142,
   "metadata": {},
   "outputs": [
    {
     "name": "stdout",
     "output_type": "stream",
     "text": [
      "True\n"
     ]
    }
   ],
   "source": [
    "print(captions_lst is vtt.captions) "
   ]
  },
  {
   "cell_type": "code",
   "execution_count": 143,
   "metadata": {},
   "outputs": [
    {
     "name": "stdout",
     "output_type": "stream",
     "text": [
      "friends-s02e15 .vtt\n",
      "friends-s02e15-PREDICTED.vtt\n"
     ]
    }
   ],
   "source": [
    "# prepare truth file (predict and then manually correct it)\n",
    "import os\n",
    "prefix, ext = os.path.splitext(inputFile)\n",
    "print(prefix, ext)\n",
    "outputLabeledFileName = prefix + \"-PREDICTED\" + ext\n",
    "print(outputLabeledFileName)"
   ]
  },
  {
   "cell_type": "code",
   "execution_count": 144,
   "metadata": {},
   "outputs": [],
   "source": [
    "vtt.save(outputLabeledFileName)"
   ]
  },
  {
   "cell_type": "code",
   "execution_count": 145,
   "metadata": {
    "collapsed": true
   },
   "outputs": [
    {
     "name": "stdout",
     "output_type": "stream",
     "text": [
      "all right no peeking\n",
      "<v JOEY>no peeking\n",
      "<v JOEY>no peeking no peeking\n",
      "<v CHANDLER>all right all right but youd better be wearing clothes\n",
      "<v CHANDLER>when i open my eyes\n",
      "<v JOEY>all right open your eyes\n",
      "<v CHANDLER>sweet mother of all that is good and pure\n",
      "<v JOEY>days of our lives picked up my option\n",
      "<v CHANDLER>congratulations\n",
      "<v JOEY>i know\n",
      "<v CHANDLER>now we can finally watch green acres the way it was meant to be seen\n",
      "<v CHANDLER>so uh which one is mine\n",
      "<v JOEY>whichever one you want man\n",
      "<v JOEY>whichever one you want\n",
      "<v JOEY>not that one\n",
      "<v CHANDLER>oh yes\n",
      "<v JOEY>oh yeah thats the stuff\n",
      "<v CHANDLER>do we dare\n",
      "<v JOEY>we dare\n",
      "ah ah\n",
      "ah ah ah ah\n",
      "♪ so no one told you life was gonna be this way ♪\n",
      "♪ your jobs a joke youre broke ♪\n",
      "♪ your love lifes doa ♪\n",
      "♪ its like youre always stuck in second gear ♪\n",
      "♪ when it hasnt been your day ♪\n",
      "♪ your week your month or even your year ♪\n",
      "♪ but ill be there for you ♪\n",
      "♪ when the rain starts to pour ♪\n",
      "♪ ill be there for you ♪\n",
      "♪ like ive been there before ♪\n",
      "♪ ill be there for you ♪\n",
      "♪ cause youre there for me too ♪\n",
      "<v PHOEBE>i cant believe two cows made the ultimate sacrifice\n",
      "<v PHOEBE>so you guys could watch tv with your feet up\n",
      "<v CHANDLER>they were chairshaped cows\n",
      "<v CHANDLER>they never would have survived in the wild\n",
      "<v ROSS>that screen is amazing\n",
      "<v ROSS>dick van dyke is practically lifesize\n",
      "<v MONICA>rose marie really belongs on a smaller screen doesnt she\n",
      "<v RACHEL>hi you guys\n",
      "<v ALL>hey\n",
      "<v RACHEL>hey you\n",
      "<v ROSS>hey you\n",
      "<v CHANDLER AND JOEY>hey yo whoa hey\n",
      "<v RACHEL>so uh how was your day\n",
      "<v ROSS>oh you know pretty much the usual\n",
      "<v ROSS>sun shining birds chirping\n",
      "<v RACHEL>really mine too\n",
      "<v PHOEBE>hey cool mine too\n",
      "<v ROSS>yeah yeah yeah\n",
      "<v ROSS>i got to get to the museum\n",
      "<v ROSS>so um ill see you tonight\n",
      "<v RACHEL>okay\n",
      "<v ROSS>bye guys\n",
      "<v ALL>bye\n",
      "<v MONICA>tonight\n",
      "<v CHANDLER AND JOEY>both hey yo hey yo\n",
      "<v MONICA>whats tonight\n",
      "<v RACHEL>it is our first official date\n",
      "<v RACHEL>our first date\n",
      "<v MONICA>hello\n",
      "<v RACHEL>hi\n",
      "<v MONICA>tonight youre supposed to waitress for me\n",
      "<v MONICA>my catering thing\n",
      "<v MONICA>any of those words trigger anything for you\n",
      "<v RACHEL>oh god monica i forgot\n",
      "<v RACHEL>this is our first date\n",
      "<v MONICA>yes but my mom got me this job\n",
      "<v PHOEBE>i can be a waitress i can be a waitress\n",
      "<v RACHEL>thank you thank you thank you thank you\n",
      "<v RACHEL>see phoebe\n",
      "<v MONICA>really pheebs because youd have to be an actual waitress\n",
      "<v MONICA>this cant be like your i can be a bear cub thing\n",
      "<v MONICA>i can be a waitress\n",
      "okay watch this\n",
      "<v PHOEBE>give me two number ones 86 the bacon\n",
      "<v PHOEBE>one adam and eve on a raft and wreck em\n",
      "♪ lala lalala lala lalala ♪\n",
      "<v PHOEBE>its james bond\n",
      "<v MONICA>sorry were late\n",
      "<v DR. BURKE>thats okay come on in\n",
      "<v DR. BURKE>im sorry is monica geller coming\n",
      "<v DR. BURKE>i was told she was\n",
      "<v MONICA>dr burke its me\n",
      "<v DR. BURKE>monica\n",
      "<v DR. BURKE>my god\n",
      "<v DR. BURKE>you used to be so\n",
      "<v DR. BURKE>i mean you you must have lost like\n",
      "<v DR. BURKE>you look great\n",
      "<v MONICA>thank you this is my friend phoebe\n",
      "<v MONICA>shes going to be helping me tonight\n",
      "<v DR. BURKE>hi phoebe nice to meet you\n",
      "<v MONICA>so howve you been ive been great\n",
      "<v MONICA>just great howve you been\n",
      "<v DR. BURKE>oh well obviously barbara and i split up\n",
      "<v DR. BURKE>otherwise you wouldnt have done the head tilt\n",
      "<v DR. BURKE>the head tilt yeah\n",
      "<v DR. BURKE>since the divorce when anybody asks me how i am\n",
      "<v DR. BURKE>its always with a sympathetic head tilt\n",
      "how you doing you okay\n",
      "<v MONICA>im sorry no no\n",
      "<v DR. BURKE>its fine believe me i do it too\n",
      "<v DR. BURKE>i always answer with the im okay head bob\n",
      "im okay\n",
      "<v DR. BURKE>you sure yeah im fine\n",
      "<v DR. BURKE>i got to set up the music i got a new cd changer\n",
      "<v DR. BURKE>of course the divorce only left me with four cds to change\n",
      "<v MONICA>oh\n",
      "<v MONICA>thats too bad\n",
      "<v DR. BURKE>ill survive\n",
      "to the reverse\n",
      "<v CHANDLER>uh two larges extra cheese on both\n",
      "<v CHANDLER>but listen dont ring the buzzer for 19\n",
      "<v CHANDLER>ring 20 gellergreen\n",
      "<v CHANDLER>theyll let you in okay\n",
      "<v CHANDLER>if you buzz our door theres no tip for you\n",
      "okay thanks\n",
      "<v CHANDLER>pizzas on the way i told you we wouldnt have to get up\n",
      "<v JOEY>what if we have to pee\n",
      "<v CHANDLER>ill cancel the sodas\n",
      "<v MONICA>youve got to get back out there\n",
      "<v MONICA>its your party\n",
      "<v DR. BURKE>but theyre so dull\n",
      "<v DR. BURKE>theyre all ophthalmologists\n",
      "<v DR. BURKE>youre an ophthalmologist\n",
      "<v DR. BURKE>only because my parents wanted me to be\n",
      "<v DR. BURKE>i wanted to be a sheriff\n",
      "<v PHOEBE>thats funny cadillac cataract\n",
      "<v PHOEBE>i get it no i get it no you stay out there\n",
      "<v DR. BURKE>you see\n",
      "<v MONICA>ill tell you what\n",
      "<v MONICA>ill come get you in five minutes\n",
      "<v MONICA>with some sort of kabob emergency\n",
      "okay\n",
      "<v DR. BURKE>you better\n",
      "<v DR. BURKE>oh god here we go\n",
      "hey want to see them go nuts\n",
      "<v DR. BURKE>watch this\n",
      "<v DR. BURKE>who needs glasses\n",
      "<v PHOEBE>you are so smitten\n",
      "<v MONICA>i am not\n",
      "<v PHOEBE>oh you are so much the smitten kitten\n",
      "<v PHOEBE>you should ask him out\n",
      "<v MONICA>dr burke i dont think so\n",
      "<v MONICA>i mean like hes a grownup\n",
      "<v MONICA>so\n",
      "<v PHOEBE>you two are totally into each other\n",
      "<v MONICA>phoebe hes a friend of my parents\n",
      "<v MONICA>hes like 20 years older than me\n",
      "<v PHOEBE>so youre just never going to see him again\n",
      "<v MONICA>not never\n",
      "<v MONICA>i mean im going to see him tomorrow\n",
      "<v MONICA>at my eye appointment\n",
      "<v PHOEBE>didnt you just get your eyes checked\n",
      "<v MONICA>well yeah but you know 27 is a\n",
      "<v MONICA>dangerous eye age\n",
      "<v RACHEL>come on im not saying it was a bad movie\n",
      "<v RACHEL>im just saying it was a little\n",
      "<v RACHEL>hard to follow\n",
      "<v ROSS>i told you there were going to be subtitles\n",
      "<v RACHEL>i know\n",
      "<v RACHEL>i just didnt want to wear my glasses\n",
      "<v RACHEL>on our first date\n",
      "oh\n",
      "<v RACHEL>monica\n",
      "<v ROSS>it would really help when im kissing you\n",
      "<v ROSS>if you didnt shout out my sisters name\n",
      "<v RACHEL>honey im just checking\n",
      "<v RACHEL>monica mon\n",
      "<v RACHEL>monica\n",
      "<v RACHEL>mon monica\n",
      "<v ROSS>what\n",
      "<v RACHEL>what im sorry oh god im sorry\n",
      "<v RACHEL>its just that when you moved your hands down to my butt\n",
      "<v RACHEL>it was like whoa rosss hands are on my butt\n",
      "<v RACHEL>sorry\n",
      "<v ROSS>and thats funny why\n",
      "<v RACHEL>well its not\n",
      "<v RACHEL>i mean im sorry i guess im just nervous\n",
      "<v RACHEL>i mean its you\n",
      "<v RACHEL>you know its us\n",
      "<v RACHEL>i mean were crossing that line\n",
      "<v RACHEL>its sort of a big thing\n",
      "<v RACHEL>well i know its big i just didnt know it was\n",
      "<v ROSS>haha big\n",
      "<v RACHEL>okay\n",
      "<v ROSS>okay my hands were nowhere near your butt\n",
      "<v RACHEL>i know i know i know i know\n",
      "<v RACHEL>i was just thinking about when they were there the last time\n",
      "<v RACHEL>im sorry im sorry im sorry\n",
      "<v RACHEL>okay look whoa i promise im good\n",
      "<v RACHEL>im not going to laugh anymore put your hands back on\n",
      "<v ROSS>no now i cant because uh\n",
      "<v ROSS>im feeling too selfconscious\n",
      "<v ROSS>just one cheek no the moments gone\n",
      "<v RACHEL>put your hands out and ill back up into them\n",
      "<v ROSS>thats romantic\n",
      "rachel come on touch it ross no\n",
      "<v RACHEL>come on squeeze it no\n",
      "<v RACHEL>rub it no\n",
      "<v RACHEL>come on would you just grab my ass\n",
      "<v JOEY>wow look at that\n",
      "<v JOEY>the car is on fire\n",
      "<v JOEY>yet somehow its expensive paint job\n",
      "<v JOEY>is protected by the miracle wax\n",
      "you know\n",
      "<v CHANDLER>you got a cheeto on your face man\n",
      "thanks\n",
      "hey both hey\n",
      "<v JOEY>what are you doing here arent you supposed to be out with rachel\n",
      "<v ROSS>that was 14 hours ago\n",
      "<v CHANDLER>so howd it go\n",
      "<v ROSS>oh listen have you ever been\n",
      "<v ROSS>you know fooling around with a girl\n",
      "<v ROSS>and uh\n",
      "she started laughing\n",
      "<v CHANDLER>yeah\n",
      "<v CHANDLER>but uh it was 1982\n",
      "<v CHANDLER>and my flock of sea gulls haircut was tickling her chin\n",
      "<v JOEY>she laughed at you\n",
      "<v ROSS>yeah i dont know ive been wanting this\n",
      "<v ROSS>since like ninth grade typing\n",
      "<v ROSS>and i just want it to be perfect\n",
      "<v ROSS>and right and\n",
      "<v ROSS>why isnt that laser beam cutting through the paint\n",
      "<v CHANDLER>its the miracle wax\n",
      "<v JOEY>it certainly is a miracle\n",
      "<v RACHEL>hi you guys both hey\n",
      "<v CHANDLER AND JOEY>hey hi\n",
      "<v RACHEL>listen i was um thinking about\n",
      "<v CHANDLER>can you guys speak up\n",
      "<v CHANDLER>its harder for us to hear you when you lower your voice\n",
      "<v RACHEL>okay listen im sorry about last night\n",
      "<v RACHEL>and i really want to make it up to you\n",
      "<v ROSS>no you you know\n",
      "<v ROSS>theres no need to make it how\n",
      "<v RACHEL>well i was thinking maybe a um\n",
      "<v RACHEL>a romantic dinner\n",
      "<v RACHEL>with um candles and wine\n",
      "<v RACHEL>and then um maybe going back to my place\n",
      "<v RACHEL>for um\n",
      "<v RACHEL>dessert\n",
      "<v ROSS>hmm that sounds i dont know perfect\n",
      "<v RACHEL>whats this\n",
      "<v CHANDLER>can you get us a couple of beers\n",
      "<v DR. BURKE>im going to look into your eyes now\n",
      "<v MONICA>really\n",
      "<v DR. BURKE>yeah thats my job\n",
      "oh right\n",
      "<v DR. BURKE>all right look up\n",
      "<v DR. BURKE>look down\n",
      "<v DR. BURKE>now open your eyes and look down\n",
      "<v DR. BURKE>thats right\n",
      "<v DR. BURKE>look into the light\n",
      "<v DR. BURKE>now look at me\n",
      "okay\n",
      "<v DR. BURKE>your eyes look good\n",
      "<v DR. BURKE>those are good eyes\n",
      "<v MONICA>good they feel good\n",
      "<v MONICA>in my head\n",
      "<v DR. BURKE>so\n",
      "<v DR. BURKE>its great to see you\n",
      "<v MONICA>you too\n",
      "<v DR. BURKE>you too\n",
      "okay um\n",
      "<v MONICA>goodbye\n",
      "<v DR. BURKE>drops what\n",
      "<v DR. BURKE>drops here theyre free\n",
      "<v MONICA>thanks\n",
      "<v MONICA>so i guess id better be going\n",
      "<v DR. BURKE>oh okay yeah ill see you later\n",
      "<v MONICA>oh thanks again\n",
      "oh uh\n",
      "<v PHOEBE>all right we have got to get you lazy boys out of these chairs\n",
      "both hey whoa hey whoa\n",
      "<v PHOEBE>you know you should go outside\n",
      "<v PHOEBE>and be with the threedimensional people\n",
      "<v JOEY>no\n",
      "<v JOEY>inside good\n",
      "<v JOEY>outside bad\n",
      "<v PHOEBE>you guys are so pathetic\n",
      "<v PHOEBE>oh oh xanadu\n",
      "<v PHOEBE>oh oh\n",
      "<v CHANDLER>shes one of us now\n",
      "<v RACHEL>hi you guys hey\n",
      "<v ROSS>all hey\n",
      "<v ROSS>well we just wanted to stop by and uh say good night\n",
      "<v CHANDLER, JOEY, AND PHOEBE>all good night\n",
      "<v ROSS>look at that they wont even turn their heads\n",
      "<v RACHEL>all right you guys im taking off my shirt\n",
      "<v JOEY>nah shes lying\n",
      "<v MONICA>stop sending food to our apartment\n",
      "<v ROSS>why are you all dressed up\n",
      "<v PHOEBE>youre not the only one who has a date tonight\n",
      "<v ROSS>what you have a date who with\n",
      "<v ROSS>no one come on whats his name\n",
      "<v MONICA>nothing\n",
      "<v ROSS>come on tell me\n",
      "<v MONICA>all right but im very excited about this okay\n",
      "<v MONICA>so you got to promise you wont get\n",
      "<v MONICA>all bigbrothery and judgmental\n",
      "<v ROSS>i promise what\n",
      "<v MONICA>its richard burke\n",
      "<v ROSS>whos richard burke\n",
      "<v ROSS>doc dr burke\n",
      "you have a date with dr burke\n",
      "why why why should that bother me\n",
      "ii love that man\n",
      "hes like a a brother to dad\n",
      "for your information he happens to be one of the brightest\n",
      "most sophisticated sexiest men ive ever been with\n",
      "<v ROSS>dr burke is sexy\n",
      "<v RACHEL AND PHOEBE>oh god absolutely\n",
      "damn\n",
      "<v ROSS>its the museum again can i oh\n",
      "<v RACHEL>you know dr burke kissed me once\n",
      "<v MONICA>when\n",
      "<v RACHEL>when i was seven\n",
      "<v RACHEL>i crashed my bike in front of his house\n",
      "<v RACHEL>and to stop me from crying he kissed me\n",
      "<v RACHEL>right here\n",
      "<v PHOEBE>oh you are so lucky\n",
      "<v RACHEL>i know\n",
      "whoa whoa whoa australopithecus isnt\n",
      "<v ROSS>supposed to be in that display\n",
      "<v ROSS>no no\n",
      "no no homo habilis was erect\n",
      "australopithecus was never full erect\n",
      "<v CHANDLER>well maybe he was nervous\n",
      "<v ROSS>look i cant believe this look\n",
      "<v ROSS>homo habilis hasnt even learned how to use tools yet\n",
      "<v ROSS>and theyve got him here with clay pots\n",
      "<v ROSS>why dont they just give him a microwave\n",
      "<v ROSS>im sorry this is taking so long\n",
      "<v ROSS>its longer than i expected we will have dinner okay\n",
      "<v RACHEL>its okay its fine\n",
      "<v ROSS>carl\n",
      "oh wow\n",
      "<v MONICA>is that michelle yep\n",
      "<v MONICA>ive not seen her since high school graduation\n",
      "<v MONICA>oh my god that night she got so drun\n",
      "<v MONICA>motional\n",
      "<v DR. BURKE>you know shes having another baby\n",
      "<v MONICA>i thought she just had one\n",
      "<v DR. BURKE>no no henrys almost two\n",
      "<v DR. BURKE>hes talking and everything\n",
      "<v DR. BURKE>here\n",
      "aw\n",
      "<v DR. BURKE>you know the other day he told me he liked me better\n",
      "<v DR. BURKE>than his other grandpa\n",
      "<v DR. BURKE>now in all fairness his other grandpas a drunk\n",
      "<v DR. BURKE>but still\n",
      "<v MONICA>oh youre a grandpa\n",
      "<v DR. BURKE>yeah\n",
      "<v DR. BURKE>are we nuts here\n",
      "<v MONICA>i dont know\n",
      "<v MONICA>maybe\n",
      "<v MONICA>i mean im dating a man\n",
      "<v MONICA>whose pool i once peed in\n",
      "<v DR. BURKE>i didnt need to know that\n",
      "<v DR. BURKE>i guess 21 years is a lot\n",
      "<v DR. BURKE>i mean hell im a\n",
      "<v DR. BURKE>whole person who can drink older than you\n",
      "<v MONICA>yeah\n",
      "<v DR. BURKE>so\n",
      "<v MONICA>so maybe we should just\n",
      "<v DR. BURKE>yeah\n",
      "<v DR. BURKE>yeah maybe\n",
      "<v MONICA>wow\n",
      "<v MONICA>this really sucks\n",
      "<v DR. BURKE>yeah it sure does\n",
      "<v MONICA>well we dont really have to decide anything right now do we\n",
      "<v DR. BURKE>no no theres rush or anything\n",
      "<v DELIVERY GUY>man pizza delivery\n",
      "<v MONICA>ooh im going to kill those guys\n",
      "<v ROSS>rach oh\n",
      "<v ROSS>im done\n",
      "<v RACHEL>yeah well you know what\n",
      "so is sorrentinos\n",
      "<v ROSS>okay im sorry lets\n",
      "<v ROSS>why dont we find someplace else\n",
      "<v RACHEL>no you know what its late everythings going to be closed\n",
      "<v RACHEL>why dont we do it another night\n",
      "<v RACHEL>no no we wont\n",
      "<v ROSS>we wont\n",
      "<v ROSS>come on\n",
      "<v RACHEL>okay thats dead right\n",
      "<v RACHEL>what is this what are we doing\n",
      "<v ROSS>shh do you want cranapple or crangrape\n",
      "<v RACHEL>grape\n",
      "<v ROSS>okay now sit\n",
      "okay\n",
      "<v RACHEL>oh my god\n",
      "man billions of years ago the earth was born\n",
      "<v ROSS>sorry\n",
      "okay\n",
      "<v RACHEL>uh so what are we looking at\n",
      "<v ROSS>well you see that\n",
      "<v ROSS>that little cluster of stars next to the big one\n",
      "<v ROSS>that is ursa major\n",
      "<v RACHEL>really\n",
      "<v ROSS>no idea could be could be\n",
      "<v ROSS>listen im sorry i had to work tonight\n",
      "oh thats okay\n",
      "<v RACHEL>you were worth the wait\n",
      "<v RACHEL>and i dont just mean tonight\n",
      "ooh\n",
      "<v ROSS>youre not laughing\n",
      "<v RACHEL>this time its not so funny\n",
      "okay loosen the knot\n",
      "loosen the knot\n",
      "<v RACHEL>oh god\n",
      "<v RACHEL>oh\n",
      "<v RACHEL>honey\n",
      "<v RACHEL>oh thats okay\n",
      "what\n",
      "oh no you just rolled over the juice box\n",
      "<v RACHEL>oh thank god\n",
      "uh\n",
      "<v ROSS>hi\n",
      "hey you\n",
      "<v RACHEL>i cant believe im waking up next to you\n",
      "<v ROSS>i know it is pretty unbelievable\n",
      "rachel what\n",
      "<v ROSS>were not alone\n",
      "<v CHANDLER>yeah\n",
      "is that the fire alarm\n",
      "<v CHANDLER>yeah\n",
      "<v CHANDLER>oh its not warm yet we still have time\n",
      "cool\n",
      "yeah yeah cool\n"
     ]
    }
   ],
   "source": [
    "for cap in newCaptions:\n",
    "    print(cap.raw_text)\n",
    "# for id in indicesNotFound:\n",
    "#     print(newCaptions[id].raw_text)"
   ]
  },
  {
   "cell_type": "code",
   "execution_count": null,
   "metadata": {},
   "outputs": [],
   "source": []
  },
  {
   "cell_type": "code",
   "execution_count": null,
   "metadata": {},
   "outputs": [],
   "source": []
  }
 ],
 "metadata": {
  "colab": {
   "collapsed_sections": [],
   "name": "Copy of transcript to vtt.ipynb",
   "provenance": [],
   "toc_visible": true,
   "version": "0.3.2"
  },
  "kernelspec": {
   "display_name": "Python 3",
   "language": "python",
   "name": "python3"
  },
  "language_info": {
   "codemirror_mode": {
    "name": "ipython",
    "version": 3
   },
   "file_extension": ".py",
   "mimetype": "text/x-python",
   "name": "python",
   "nbconvert_exporter": "python",
   "pygments_lexer": "ipython3",
   "version": "3.6.4"
  }
 },
 "nbformat": 4,
 "nbformat_minor": 1
}

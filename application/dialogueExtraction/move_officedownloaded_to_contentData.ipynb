{
 "cells": [
  {
   "cell_type": "markdown",
   "metadata": {},
   "source": [
    "# Move office episodes to contentData\n",
    "\n"
   ]
  },
  {
   "cell_type": "code",
   "execution_count": 1,
   "metadata": {},
   "outputs": [],
   "source": [
    "import os"
   ]
  },
  {
   "cell_type": "code",
   "execution_count": 2,
   "metadata": {},
   "outputs": [],
   "source": [
    "officeDownloaded = \"../../../DownloadedContent/The_Office/\"\n",
    "officeContentData = \"../../contentData/tvShows/The-Office/\""
   ]
  },
  {
   "cell_type": "code",
   "execution_count": 17,
   "metadata": {},
   "outputs": [
    {
     "name": "stdout",
     "output_type": "stream",
     "text": [
      "['.DS_Store', 'The Office S01X01 The Accountants.mp4']\n"
     ]
    }
   ],
   "source": [
    "orig = os.listdir(officeDownloaded)\n",
    "# orig = [os.path.join(officeDownloaded, d) for d in orig]\n",
    "for d in orig:\n",
    "    fullDownloadedSeasonDir = os.path.join(officeDownloaded, d)\n",
    "    if os.path.isdir(fullDownloadedSeasonDir):\n",
    "        word = d.split()[3]\n",
    "        seasonNum = int(word[1:])\n",
    "        print(os.listdir(fullDownloadedSeasonDir))\n",
    "        if seasonNum is 1: continue # manually moved first season"
   ]
  },
  {
   "cell_type": "code",
   "execution_count": null,
   "metadata": {},
   "outputs": [],
   "source": []
  }
 ],
 "metadata": {
  "kernelspec": {
   "display_name": "Python 3",
   "language": "python",
   "name": "python3"
  },
  "language_info": {
   "codemirror_mode": {
    "name": "ipython",
    "version": 3
   },
   "file_extension": ".py",
   "mimetype": "text/x-python",
   "name": "python",
   "nbconvert_exporter": "python",
   "pygments_lexer": "ipython3",
   "version": "3.6.4"
  }
 },
 "nbformat": 4,
 "nbformat_minor": 2
}
